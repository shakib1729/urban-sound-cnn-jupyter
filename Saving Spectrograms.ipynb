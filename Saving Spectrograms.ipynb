{
 "cells": [
  {
   "cell_type": "code",
   "execution_count": 11,
   "metadata": {},
   "outputs": [],
   "source": [
    "import os\n",
    "import librosa\n",
    "import matplotlib.pyplot as plt"
   ]
  },
  {
   "cell_type": "code",
   "execution_count": 12,
   "metadata": {},
   "outputs": [],
   "source": [
    "# Saving the Spectrogram to the folder 'spectograms' (created in the current directory) of a single audio file\n",
    "def save_spectrogram(curr_audio_path, curr_audio_name):\n",
    "    X, sr = librosa.load(curr_audio_path)  # librosa.load() returns an np array and sampling rate(by default 22050)\n",
    "    plt.specgram(X, Fs=22050)\n",
    "    plt.gca().axes.get_yaxis().set_visible(False)\n",
    "    plt.gca().axes.get_xaxis().set_visible(False)\n",
    "    plt.plot\n",
    "    plt.savefig('spectrograms/' + curr_audio_name,  bbox_inches= 'tight' , pad_inches = 0, dpi = 25)"
   ]
  },
  {
   "cell_type": "code",
   "execution_count": null,
   "metadata": {},
   "outputs": [],
   "source": [
    "# Go to all the audio files and save their corresponding Spectrograms on the disk\n",
    "rootdir = 'data/UrbanSound8K/audio/' # Download the UrbanSound8K dataset first\n",
    "for subdir, dirs, files in os.walk(rootdir):\n",
    "        for file in files:\n",
    "            curr_audio_path = os.path.join(subdir, file)  # The path of current audio file\n",
    "            curr_audio_path = os.path.normpath(curr_audio_path)  # To get '\\' instead of '/'\n",
    "            curr_audio_name = os.path.splitext(file)[0]   # The name of current audio file (withoud .wav extension)\n",
    "            save_spectrogram(curr_audio_path, curr_audio_name)"
   ]
  }
 ],
 "metadata": {
  "kernelspec": {
   "display_name": "Python 3",
   "language": "python",
   "name": "python3"
  },
  "language_info": {
   "codemirror_mode": {
    "name": "ipython",
    "version": 3
   },
   "file_extension": ".py",
   "mimetype": "text/x-python",
   "name": "python",
   "nbconvert_exporter": "python",
   "pygments_lexer": "ipython3",
   "version": "3.7.5"
  }
 },
 "nbformat": 4,
 "nbformat_minor": 2
}

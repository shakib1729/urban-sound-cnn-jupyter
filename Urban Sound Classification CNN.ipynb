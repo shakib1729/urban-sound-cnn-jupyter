{
 "cells": [
  {
   "cell_type": "markdown",
   "metadata": {},
   "source": [
    "# Preparing the dataset"
   ]
  },
  {
   "cell_type": "code",
   "execution_count": 1,
   "metadata": {},
   "outputs": [],
   "source": [
    "import os\n",
    "import librosa\n",
    "import numpy as np\n",
    "import matplotlib.pyplot as plt"
   ]
  },
  {
   "cell_type": "code",
   "execution_count": 2,
   "metadata": {},
   "outputs": [],
   "source": [
    "# Saving the Spectrogram of a single audio file\n",
    "def save_spectrogram(curr_audio_path, curr_audio_name):\n",
    "    X, sr = librosa.load(curr_audio_path)  # librosa.load() returns an np array and sampling rate(by default 22050)\n",
    "    plt.specgram(X, Fs=22050)\n",
    "    plt.gca().axes.get_yaxis().set_visible(False)\n",
    "    plt.gca().axes.get_xaxis().set_visible(False)\n",
    "    plt.plot\n",
    "    plt.savefig('spectrograms/' + curr_audio_name,  bbox_inches= 'tight' , pad_inches = 0, dpi = 25)"
   ]
  },
  {
   "cell_type": "raw",
   "metadata": {},
   "source": [
    " Now we have all the spectrogram images in the 'sprectograms' folder, we need to make our datasets: X and Y\n",
    " The file is in the format: [fsID]-[classID]-[occurrenceID]-[sliceID].wav (Now converted to an image)\n",
    " So to build 'Y' we can retrieve 'classID' from each of the file\n",
    " So we have to go to all the images, flatten each image into an array, \n",
    " append it to 'X' and store the corrsponding class values in 'Y'"
   ]
  },
  {
   "cell_type": "code",
   "execution_count": 3,
   "metadata": {},
   "outputs": [
    {
     "name": "stderr",
     "output_type": "stream",
     "text": [
      "Using TensorFlow backend.\n"
     ]
    },
    {
     "name": "stdout",
     "output_type": "stream",
     "text": [
      "8732 8732\n",
      "(64, 64, 3)\n"
     ]
    }
   ],
   "source": [
    "from keras.preprocessing import image\n",
    "from PIL import Image\n",
    "\n",
    "rootdir = 'spectrograms/'\n",
    "\n",
    "X = []\n",
    "Y = []\n",
    "\n",
    "for subdir, dirs, files in os.walk(rootdir):\n",
    "    for file in files:\n",
    "        curr_img_path = os.path.join(subdir, file)  # The path of current image file\n",
    "        curr_img_path = os.path.normpath(curr_img_path)  # To get '\\' instead of '/'\n",
    "        curr_img_name = os.path.splitext(file)[0]   # The name of current image file (withoud .png extension)\n",
    "        img = image.load_img(curr_img_path, target_size = (64, 64))  # Load the actual image file\n",
    "        img = image.img_to_array(img)        # Convert the loaded image file to the array\n",
    "        cls = int(curr_img_name.split('-')[1])\n",
    "        X.append(img)\n",
    "        Y.append(cls)\n",
    "print(len(X), len(Y))\n",
    "print(X[0].shape)"
   ]
  },
  {
   "cell_type": "code",
   "execution_count": 4,
   "metadata": {},
   "outputs": [
    {
     "data": {
      "text/plain": [
       "((8732, 64, 64, 3),\n",
       " numpy.ndarray,\n",
       " (8732, 10),\n",
       " numpy.ndarray,\n",
       " array([0., 0., 0., 1., 0., 0., 0., 0., 0., 0.], dtype=float32))"
      ]
     },
     "execution_count": 4,
     "metadata": {},
     "output_type": "execute_result"
    }
   ],
   "source": [
    "from keras.utils import to_categorical\n",
    "X = np.array(X)\n",
    "Y = np.array(Y)\n",
    "Y = to_categorical(Y)   # One hot encoding\n",
    "X.shape, type(X), Y.shape, type(Y), (Y[0])"
   ]
  },
  {
   "cell_type": "code",
   "execution_count": 5,
   "metadata": {},
   "outputs": [
    {
     "name": "stdout",
     "output_type": "stream",
     "text": [
      "(6549, 64, 64, 3) (6549, 10)\n",
      "(2183, 64, 64, 3) (2183, 10)\n"
     ]
    }
   ],
   "source": [
    "from sklearn.model_selection import train_test_split\n",
    "X_train, X_test, Y_train, Y_test = train_test_split(X, Y, random_state = 0)\n",
    "print(X_train.shape, Y_train.shape)\n",
    "print(X_test.shape, Y_test.shape)"
   ]
  },
  {
   "cell_type": "markdown",
   "metadata": {},
   "source": [
    "# Training the CNN"
   ]
  },
  {
   "cell_type": "raw",
   "metadata": {},
   "source": [
    "Now we have our training and testing data, we can now train our CNN model using this"
   ]
  },
  {
   "cell_type": "code",
   "execution_count": 6,
   "metadata": {},
   "outputs": [],
   "source": [
    "num_classes = 10\n",
    "input_width = 64\n",
    "input_height = 64\n",
    "input_channels = 3\n",
    "input_shape = (input_width, input_height, input_channels)"
   ]
  },
  {
   "cell_type": "code",
   "execution_count": 7,
   "metadata": {},
   "outputs": [],
   "source": [
    "from keras.models import Sequential\n",
    "from keras.layers import Dense, Dropout, Flatten, Conv2D, MaxPooling2D\n",
    "from keras import optimizers"
   ]
  },
  {
   "cell_type": "code",
   "execution_count": 8,
   "metadata": {},
   "outputs": [
    {
     "name": "stdout",
     "output_type": "stream",
     "text": [
      "Model: \"sequential_1\"\n",
      "_________________________________________________________________\n",
      "Layer (type)                 Output Shape              Param #   \n",
      "=================================================================\n",
      "conv2d_1 (Conv2D)            (None, 64, 64, 32)        896       \n",
      "_________________________________________________________________\n",
      "max_pooling2d_1 (MaxPooling2 (None, 32, 32, 32)        0         \n",
      "_________________________________________________________________\n",
      "conv2d_2 (Conv2D)            (None, 32, 32, 32)        9248      \n",
      "_________________________________________________________________\n",
      "max_pooling2d_2 (MaxPooling2 (None, 16, 16, 32)        0         \n",
      "_________________________________________________________________\n",
      "dropout_1 (Dropout)          (None, 16, 16, 32)        0         \n",
      "_________________________________________________________________\n",
      "conv2d_3 (Conv2D)            (None, 16, 16, 64)        18496     \n",
      "_________________________________________________________________\n",
      "max_pooling2d_3 (MaxPooling2 (None, 8, 8, 64)          0         \n",
      "_________________________________________________________________\n",
      "conv2d_4 (Conv2D)            (None, 8, 8, 64)          36928     \n",
      "_________________________________________________________________\n",
      "max_pooling2d_4 (MaxPooling2 (None, 4, 4, 64)          0         \n",
      "_________________________________________________________________\n",
      "conv2d_5 (Conv2D)            (None, 4, 4, 128)         73856     \n",
      "_________________________________________________________________\n",
      "max_pooling2d_5 (MaxPooling2 (None, 2, 2, 128)         0         \n",
      "_________________________________________________________________\n",
      "dropout_2 (Dropout)          (None, 2, 2, 128)         0         \n",
      "_________________________________________________________________\n",
      "flatten_1 (Flatten)          (None, 512)               0         \n",
      "_________________________________________________________________\n",
      "dense_1 (Dense)              (None, 512)               262656    \n",
      "_________________________________________________________________\n",
      "dense_2 (Dense)              (None, 10)                5130      \n",
      "=================================================================\n",
      "Total params: 407,210\n",
      "Trainable params: 407,210\n",
      "Non-trainable params: 0\n",
      "_________________________________________________________________\n"
     ]
    }
   ],
   "source": [
    "# Model with 2 dropout layers (dropout rates as 0.30 and 0.50) and learning_rate=0.0005\n",
    "model = Sequential()\n",
    "model.add(Conv2D(32, (3, 3), padding='same', activation='relu',\n",
    "                 input_shape=input_shape))\n",
    "model.add(MaxPooling2D(pool_size=(2, 2)))\n",
    "\n",
    "model.add(Conv2D(32, (3, 3), padding='same', activation='relu'))\n",
    "model.add(MaxPooling2D(pool_size=(2, 2)))\n",
    "\n",
    "model.add(Dropout(0.30))\n",
    "\n",
    "model.add(Conv2D(64, (3, 3), padding='same', activation='relu'))\n",
    "model.add(MaxPooling2D(pool_size=(2, 2)))\n",
    "\n",
    "model.add(Conv2D(64, (3, 3), padding='same', activation='relu'))\n",
    "model.add(MaxPooling2D(pool_size=(2, 2)))\n",
    "\n",
    "model.add(Conv2D(128, (3, 3), padding='same', activation='relu'))\n",
    "model.add(MaxPooling2D(pool_size=(2, 2)))\n",
    "\n",
    "model.add(Dropout(0.5))\n",
    "\n",
    "model.add(Flatten())\n",
    "\n",
    "model.add(Dense(512, activation='relu'))\n",
    "model.add(Dense(num_classes, activation='softmax'))\n",
    "model.compile(optimizers.Adam(lr=0.0005),loss=\"categorical_crossentropy\",metrics=[\"accuracy\"])\n",
    "model.summary()"
   ]
  },
  {
   "cell_type": "code",
   "execution_count": 9,
   "metadata": {},
   "outputs": [
    {
     "name": "stdout",
     "output_type": "stream",
     "text": [
      "Train on 6549 samples, validate on 2183 samples\n",
      "Epoch 1/50\n",
      "6549/6549 [==============================] - 25s 4ms/step - loss: 2.7128 - accuracy: 0.2095 - val_loss: 1.8601 - val_accuracy: 0.3165\n",
      "Epoch 2/50\n",
      "6549/6549 [==============================] - 23s 4ms/step - loss: 1.7899 - accuracy: 0.3549 - val_loss: 1.5729 - val_accuracy: 0.4572\n",
      "Epoch 3/50\n",
      "6549/6549 [==============================] - 24s 4ms/step - loss: 1.5995 - accuracy: 0.4327 - val_loss: 1.4856 - val_accuracy: 0.4663\n",
      "Epoch 4/50\n",
      "6549/6549 [==============================] - 24s 4ms/step - loss: 1.4782 - accuracy: 0.4760 - val_loss: 1.3882 - val_accuracy: 0.5062\n",
      "Epoch 5/50\n",
      "6549/6549 [==============================] - 23s 4ms/step - loss: 1.3888 - accuracy: 0.5068 - val_loss: 1.3911 - val_accuracy: 0.5007\n",
      "Epoch 6/50\n",
      "6549/6549 [==============================] - 24s 4ms/step - loss: 1.3149 - accuracy: 0.5399 - val_loss: 1.2500 - val_accuracy: 0.5790\n",
      "Epoch 7/50\n",
      "6549/6549 [==============================] - 23s 4ms/step - loss: 1.2432 - accuracy: 0.5647 - val_loss: 1.2002 - val_accuracy: 0.5973\n",
      "Epoch 8/50\n",
      "6549/6549 [==============================] - 24s 4ms/step - loss: 1.1852 - accuracy: 0.5908 - val_loss: 1.1586 - val_accuracy: 0.6051\n",
      "Epoch 9/50\n",
      "6549/6549 [==============================] - 23s 4ms/step - loss: 1.1419 - accuracy: 0.5999 - val_loss: 1.0621 - val_accuracy: 0.6541\n",
      "Epoch 10/50\n",
      "6549/6549 [==============================] - 24s 4ms/step - loss: 1.0893 - accuracy: 0.6244 - val_loss: 1.1047 - val_accuracy: 0.6354\n",
      "Epoch 11/50\n",
      "6549/6549 [==============================] - 24s 4ms/step - loss: 1.0402 - accuracy: 0.6407 - val_loss: 1.0022 - val_accuracy: 0.6688\n",
      "Epoch 12/50\n",
      "6549/6549 [==============================] - 23s 4ms/step - loss: 1.0091 - accuracy: 0.6525 - val_loss: 0.9714 - val_accuracy: 0.6766\n",
      "Epoch 13/50\n",
      "6549/6549 [==============================] - 24s 4ms/step - loss: 0.9687 - accuracy: 0.6613 - val_loss: 0.9423 - val_accuracy: 0.6894\n",
      "Epoch 14/50\n",
      "6549/6549 [==============================] - 24s 4ms/step - loss: 0.9406 - accuracy: 0.6743 - val_loss: 0.9207 - val_accuracy: 0.6963\n",
      "Epoch 15/50\n",
      "6549/6549 [==============================] - 23s 4ms/step - loss: 0.8724 - accuracy: 0.7027 - val_loss: 0.8846 - val_accuracy: 0.7073\n",
      "Epoch 16/50\n",
      "6549/6549 [==============================] - 24s 4ms/step - loss: 0.8456 - accuracy: 0.7062 - val_loss: 0.8511 - val_accuracy: 0.7183\n",
      "Epoch 17/50\n",
      "6549/6549 [==============================] - 24s 4ms/step - loss: 0.8133 - accuracy: 0.7152 - val_loss: 0.8164 - val_accuracy: 0.7380\n",
      "Epoch 18/50\n",
      "6549/6549 [==============================] - 24s 4ms/step - loss: 0.7981 - accuracy: 0.7232 - val_loss: 0.8487 - val_accuracy: 0.7265\n",
      "Epoch 19/50\n",
      "6549/6549 [==============================] - 24s 4ms/step - loss: 0.7617 - accuracy: 0.7297 - val_loss: 0.7898 - val_accuracy: 0.7361\n",
      "Epoch 20/50\n",
      "6549/6549 [==============================] - 24s 4ms/step - loss: 0.7248 - accuracy: 0.7502 - val_loss: 0.8240 - val_accuracy: 0.7265\n",
      "Epoch 21/50\n",
      "6549/6549 [==============================] - 26s 4ms/step - loss: 0.7002 - accuracy: 0.7569 - val_loss: 0.7641 - val_accuracy: 0.7522\n",
      "Epoch 22/50\n",
      "6549/6549 [==============================] - 25s 4ms/step - loss: 0.6871 - accuracy: 0.7597 - val_loss: 0.7400 - val_accuracy: 0.7627\n",
      "Epoch 23/50\n",
      "6549/6549 [==============================] - 25s 4ms/step - loss: 0.6575 - accuracy: 0.7723 - val_loss: 0.6979 - val_accuracy: 0.7765\n",
      "Epoch 24/50\n",
      "6549/6549 [==============================] - 24s 4ms/step - loss: 0.6320 - accuracy: 0.7765 - val_loss: 0.7212 - val_accuracy: 0.7531\n",
      "Epoch 25/50\n",
      "6549/6549 [==============================] - 24s 4ms/step - loss: 0.5984 - accuracy: 0.7887 - val_loss: 0.6319 - val_accuracy: 0.7980\n",
      "Epoch 26/50\n",
      "6549/6549 [==============================] - 24s 4ms/step - loss: 0.5781 - accuracy: 0.8004 - val_loss: 0.6693 - val_accuracy: 0.7787\n",
      "Epoch 27/50\n",
      "6549/6549 [==============================] - 25s 4ms/step - loss: 0.5619 - accuracy: 0.8021 - val_loss: 0.6371 - val_accuracy: 0.7884\n",
      "Epoch 28/50\n",
      "6549/6549 [==============================] - 24s 4ms/step - loss: 0.5484 - accuracy: 0.8039 - val_loss: 0.6441 - val_accuracy: 0.7934\n",
      "Epoch 29/50\n",
      "6549/6549 [==============================] - 25s 4ms/step - loss: 0.5464 - accuracy: 0.8030 - val_loss: 0.6671 - val_accuracy: 0.7847\n",
      "Epoch 30/50\n",
      "6549/6549 [==============================] - 24s 4ms/step - loss: 0.5234 - accuracy: 0.8125 - val_loss: 0.6321 - val_accuracy: 0.7962\n",
      "Epoch 31/50\n",
      "6549/6549 [==============================] - 24s 4ms/step - loss: 0.4983 - accuracy: 0.8278 - val_loss: 0.6191 - val_accuracy: 0.8030\n",
      "Epoch 32/50\n",
      "6549/6549 [==============================] - 23s 4ms/step - loss: 0.4718 - accuracy: 0.8340 - val_loss: 0.5982 - val_accuracy: 0.8035\n",
      "Epoch 33/50\n",
      "6549/6549 [==============================] - 24s 4ms/step - loss: 0.4626 - accuracy: 0.8403 - val_loss: 0.5855 - val_accuracy: 0.8186\n",
      "Epoch 34/50\n",
      "6549/6549 [==============================] - 24s 4ms/step - loss: 0.4641 - accuracy: 0.8378 - val_loss: 0.6087 - val_accuracy: 0.8049\n",
      "Epoch 35/50\n",
      "6549/6549 [==============================] - 24s 4ms/step - loss: 0.4556 - accuracy: 0.8461 - val_loss: 0.6012 - val_accuracy: 0.7998\n",
      "Epoch 36/50\n",
      "6549/6549 [==============================] - 25s 4ms/step - loss: 0.4298 - accuracy: 0.8464 - val_loss: 0.6020 - val_accuracy: 0.8062\n",
      "Epoch 37/50\n",
      "6549/6549 [==============================] - 24s 4ms/step - loss: 0.4086 - accuracy: 0.8549 - val_loss: 0.5715 - val_accuracy: 0.8136\n",
      "Epoch 38/50\n",
      "6549/6549 [==============================] - 25s 4ms/step - loss: 0.4134 - accuracy: 0.8565 - val_loss: 0.5642 - val_accuracy: 0.8223\n",
      "Epoch 39/50\n",
      "6549/6549 [==============================] - 24s 4ms/step - loss: 0.4072 - accuracy: 0.8554 - val_loss: 0.5610 - val_accuracy: 0.8163\n",
      "Epoch 40/50\n",
      "6549/6549 [==============================] - 24s 4ms/step - loss: 0.3805 - accuracy: 0.8652 - val_loss: 0.5862 - val_accuracy: 0.8081\n",
      "Epoch 41/50\n",
      "6549/6549 [==============================] - 24s 4ms/step - loss: 0.3939 - accuracy: 0.8606 - val_loss: 0.5490 - val_accuracy: 0.8195\n",
      "Epoch 42/50\n",
      "6549/6549 [==============================] - 23s 4ms/step - loss: 0.3684 - accuracy: 0.8728 - val_loss: 0.5893 - val_accuracy: 0.8191\n",
      "Epoch 43/50\n",
      "6549/6549 [==============================] - 24s 4ms/step - loss: 0.3724 - accuracy: 0.8661 - val_loss: 0.5628 - val_accuracy: 0.8200\n",
      "Epoch 44/50\n",
      "6549/6549 [==============================] - 24s 4ms/step - loss: 0.3712 - accuracy: 0.8675 - val_loss: 0.5502 - val_accuracy: 0.8278\n",
      "Epoch 45/50\n",
      "6549/6549 [==============================] - 24s 4ms/step - loss: 0.3384 - accuracy: 0.8815 - val_loss: 0.5610 - val_accuracy: 0.8177\n",
      "Epoch 46/50\n",
      "6549/6549 [==============================] - 23s 4ms/step - loss: 0.3393 - accuracy: 0.8821 - val_loss: 0.5546 - val_accuracy: 0.8223\n",
      "Epoch 47/50\n",
      "6549/6549 [==============================] - 24s 4ms/step - loss: 0.3466 - accuracy: 0.8804 - val_loss: 0.6181 - val_accuracy: 0.7975\n",
      "Epoch 48/50\n",
      "6549/6549 [==============================] - 25s 4ms/step - loss: 0.3344 - accuracy: 0.8815 - val_loss: 0.5312 - val_accuracy: 0.8172\n",
      "Epoch 49/50\n",
      "6549/6549 [==============================] - 24s 4ms/step - loss: 0.3273 - accuracy: 0.8862 - val_loss: 0.5366 - val_accuracy: 0.8145\n",
      "Epoch 50/50\n",
      "6549/6549 [==============================] - 24s 4ms/step - loss: 0.2959 - accuracy: 0.8937 - val_loss: 0.5251 - val_accuracy: 0.8333\n"
     ]
    }
   ],
   "source": [
    "history = model.fit(X_train, Y_train, epochs=50, validation_data=(X_test, Y_test))"
   ]
  },
  {
   "cell_type": "code",
   "execution_count": 10,
   "metadata": {},
   "outputs": [
    {
     "data": {
      "image/png": "[encoded data removed]",
      "text/plain": [
       "<Figure size 432x288 with 1 Axes>"
      ]
     },
     "metadata": {
      "needs_background": "light"
     },
     "output_type": "display_data"
    }
   ],
   "source": [
    "# summarize history for accuracy\n",
    "plt.plot(history.history['accuracy'])\n",
    "plt.plot(history.history['val_accuracy'])\n",
    "plt.title('model accuracy')\n",
    "plt.ylabel('accuracy')\n",
    "plt.xlabel('epoch')\n",
    "plt.legend(['train', 'test'], loc='upper left')\n",
    "plt.show()"
   ]
  },
  {
   "cell_type": "code",
   "execution_count": 11,
   "metadata": {},
   "outputs": [
    {
     "name": "stdout",
     "output_type": "stream",
     "text": [
      "2183/2183 [==============================] - 3s 1ms/step\n",
      "[0.5250703431682963, 0.8332569599151611]\n"
     ]
    }
   ],
   "source": [
    "score = model.evaluate(X_test, Y_test)\n",
    "print(score)"
   ]
  },
  {
   "cell_type": "code",
   "execution_count": 21,
   "metadata": {},
   "outputs": [],
   "source": [
    "# Save the model, so that we can use this trained model later also\n",
    "model.save('saved_models/UrbanSoundCNN4.h5')"
   ]
  },
  {
   "cell_type": "code",
   "execution_count": 13,
   "metadata": {},
   "outputs": [],
   "source": [
    "Y_test_pred = model.predict(X_test)\n",
    "Y_train_pred = model.predict(X_train)\n",
    "y_test_pred = np.argmax(Y_test_pred, axis=1)\n",
    "y_test = np.argmax(Y_test, axis=1)\n",
    "y_train_pred = np.argmax(Y_train_pred, axis=1)\n",
    "y_train = np.argmax(Y_train, axis=1)"
   ]
  },
  {
   "cell_type": "code",
   "execution_count": 14,
   "metadata": {},
   "outputs": [],
   "source": [
    "from sklearn.metrics import confusion_matrix, classification_report, accuracy_score"
   ]
  },
  {
   "cell_type": "code",
   "execution_count": 15,
   "metadata": {},
   "outputs": [
    {
     "name": "stdout",
     "output_type": "stream",
     "text": [
      "[[226   0   4   2   1   3   0   2   2   4]\n",
      " [  0  81   2   3   3   2   1   0   6   6]\n",
      " [  6   2 173  18   6  13   1   1   8  31]\n",
      " [  2   1  13 179   4   6   2   1   5  11]\n",
      " [  2   1   4   5 225   3   1   9   0   6]\n",
      " [ 15   1   8   1   2 229   0   3   4   3]\n",
      " [  1   1   0   2   1   0 101   1   0   0]\n",
      " [  7   0   2   0  17   0   0 207   0   3]\n",
      " [  8   3   2   2   3   2   0   1 227   4]\n",
      " [ 10   6  18   5   4   5   0   8   8 171]]\n"
     ]
    }
   ],
   "source": [
    "print(confusion_matrix(y_test, y_test_pred))"
   ]
  },
  {
   "cell_type": "code",
   "execution_count": 16,
   "metadata": {},
   "outputs": [
    {
     "name": "stdout",
     "output_type": "stream",
     "text": [
      "[[753   0   0   0   0   3   0   0   0   0]\n",
      " [  2 317   4   0   0   1   0   0   0   1]\n",
      " [ 14   0 673   6   1  17   0   0   3  27]\n",
      " [  1   2  11 742   2   3   0   0   1  14]\n",
      " [  1   2   1   0 720   5   1   5   0   9]\n",
      " [ 15   0   8   3   0 705   0   0   0   3]\n",
      " [  0   0   0   0   0   0 266   1   0   0]\n",
      " [  3   0   1   0   5   2   0 752   0   1]\n",
      " [  2   1   0   1   0   1   0   0 669   3]\n",
      " [ 15   3  12   6   1   4   0   1   5 718]]\n"
     ]
    }
   ],
   "source": [
    "print(confusion_matrix(y_train, y_train_pred))"
   ]
  },
  {
   "cell_type": "code",
   "execution_count": 17,
   "metadata": {},
   "outputs": [
    {
     "name": "stdout",
     "output_type": "stream",
     "text": [
      "              precision    recall  f1-score   support\n",
      "\n",
      "           0       0.82      0.93      0.87       244\n",
      "           1       0.84      0.78      0.81       104\n",
      "           2       0.77      0.67      0.71       259\n",
      "           3       0.82      0.80      0.81       224\n",
      "           4       0.85      0.88      0.86       256\n",
      "           5       0.87      0.86      0.87       266\n",
      "           6       0.95      0.94      0.95       107\n",
      "           7       0.89      0.88      0.88       236\n",
      "           8       0.87      0.90      0.89       252\n",
      "           9       0.72      0.73      0.72       235\n",
      "\n",
      "    accuracy                           0.83      2183\n",
      "   macro avg       0.84      0.84      0.84      2183\n",
      "weighted avg       0.83      0.83      0.83      2183\n",
      "\n"
     ]
    }
   ],
   "source": [
    "print(classification_report(y_test, y_test_pred))"
   ]
  },
  {
   "cell_type": "code",
   "execution_count": 18,
   "metadata": {},
   "outputs": [
    {
     "name": "stdout",
     "output_type": "stream",
     "text": [
      "              precision    recall  f1-score   support\n",
      "\n",
      "           0       0.93      1.00      0.96       756\n",
      "           1       0.98      0.98      0.98       325\n",
      "           2       0.95      0.91      0.93       741\n",
      "           3       0.98      0.96      0.97       776\n",
      "           4       0.99      0.97      0.98       744\n",
      "           5       0.95      0.96      0.96       734\n",
      "           6       1.00      1.00      1.00       267\n",
      "           7       0.99      0.98      0.99       764\n",
      "           8       0.99      0.99      0.99       677\n",
      "           9       0.93      0.94      0.93       765\n",
      "\n",
      "    accuracy                           0.96      6549\n",
      "   macro avg       0.97      0.97      0.97      6549\n",
      "weighted avg       0.96      0.96      0.96      6549\n",
      "\n"
     ]
    }
   ],
   "source": [
    "print(classification_report(y_train, y_train_pred))"
   ]
  },
  {
   "cell_type": "code",
   "execution_count": 22,
   "metadata": {},
   "outputs": [
    {
     "name": "stdout",
     "output_type": "stream",
     "text": [
      "0.8332569857993587\n"
     ]
    }
   ],
   "source": [
    "print(accuracy_score(y_test, y_test_pred))"
   ]
  },
  {
   "cell_type": "code",
   "execution_count": 23,
   "metadata": {},
   "outputs": [
    {
     "name": "stdout",
     "output_type": "stream",
     "text": [
      "0.9642693540998626\n"
     ]
    }
   ],
   "source": [
    "print(accuracy_score(y_train, y_train_pred))"
   ]
  },
  {
   "cell_type": "code",
   "execution_count": null,
   "metadata": {},
   "outputs": [],
   "source": []
  }
 ],
 "metadata": {
  "kernelspec": {
   "display_name": "Python 3",
   "language": "python",
   "name": "python3"
  },
  "language_info": {
   "codemirror_mode": {
    "name": "ipython",
    "version": 3
   },
   "file_extension": ".py",
   "mimetype": "text/x-python",
   "name": "python",
   "nbconvert_exporter": "python",
   "pygments_lexer": "ipython3",
   "version": "3.7.5"
  }
 },
 "nbformat": 4,
 "nbformat_minor": 2
}
